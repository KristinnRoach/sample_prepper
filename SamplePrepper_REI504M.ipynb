{
  "cells": [
    {
      "cell_type": "code",
      "execution_count": null,
      "metadata": {
        "colab": {
          "base_uri": "https://localhost:8080/"
        },
        "id": "Qy24vOpyvB-n",
        "outputId": "e4e455a4-2abd-4aef-b17b-8097f92f0389"
      },
      "outputs": [
        {
          "output_type": "stream",
          "name": "stdout",
          "text": [
            "Requirement already satisfied: pydub in /usr/local/lib/python3.10/dist-packages (0.25.1)\n",
            "Requirement already satisfied: librosa in /usr/local/lib/python3.10/dist-packages (0.10.2.post1)\n",
            "Requirement already satisfied: audioread>=2.1.9 in /usr/local/lib/python3.10/dist-packages (from librosa) (3.0.1)\n",
            "Requirement already satisfied: numpy!=1.22.0,!=1.22.1,!=1.22.2,>=1.20.3 in /usr/local/lib/python3.10/dist-packages (from librosa) (1.26.4)\n",
            "Requirement already satisfied: scipy>=1.2.0 in /usr/local/lib/python3.10/dist-packages (from librosa) (1.13.1)\n",
            "Requirement already satisfied: scikit-learn>=0.20.0 in /usr/local/lib/python3.10/dist-packages (from librosa) (1.5.2)\n",
            "Requirement already satisfied: joblib>=0.14 in /usr/local/lib/python3.10/dist-packages (from librosa) (1.4.2)\n",
            "Requirement already satisfied: decorator>=4.3.0 in /usr/local/lib/python3.10/dist-packages (from librosa) (4.4.2)\n",
            "Requirement already satisfied: numba>=0.51.0 in /usr/local/lib/python3.10/dist-packages (from librosa) (0.60.0)\n",
            "Requirement already satisfied: soundfile>=0.12.1 in /usr/local/lib/python3.10/dist-packages (from librosa) (0.12.1)\n",
            "Requirement already satisfied: pooch>=1.1 in /usr/local/lib/python3.10/dist-packages (from librosa) (1.8.2)\n",
            "Requirement already satisfied: soxr>=0.3.2 in /usr/local/lib/python3.10/dist-packages (from librosa) (0.5.0.post1)\n",
            "Requirement already satisfied: typing-extensions>=4.1.1 in /usr/local/lib/python3.10/dist-packages (from librosa) (4.12.2)\n",
            "Requirement already satisfied: lazy-loader>=0.1 in /usr/local/lib/python3.10/dist-packages (from librosa) (0.4)\n",
            "Requirement already satisfied: msgpack>=1.0 in /usr/local/lib/python3.10/dist-packages (from librosa) (1.1.0)\n",
            "Requirement already satisfied: packaging in /usr/local/lib/python3.10/dist-packages (from lazy-loader>=0.1->librosa) (24.2)\n",
            "Requirement already satisfied: llvmlite<0.44,>=0.43.0dev0 in /usr/local/lib/python3.10/dist-packages (from numba>=0.51.0->librosa) (0.43.0)\n",
            "Requirement already satisfied: platformdirs>=2.5.0 in /usr/local/lib/python3.10/dist-packages (from pooch>=1.1->librosa) (4.3.6)\n",
            "Requirement already satisfied: requests>=2.19.0 in /usr/local/lib/python3.10/dist-packages (from pooch>=1.1->librosa) (2.32.3)\n",
            "Requirement already satisfied: threadpoolctl>=3.1.0 in /usr/local/lib/python3.10/dist-packages (from scikit-learn>=0.20.0->librosa) (3.5.0)\n",
            "Requirement already satisfied: cffi>=1.0 in /usr/local/lib/python3.10/dist-packages (from soundfile>=0.12.1->librosa) (1.17.1)\n",
            "Requirement already satisfied: pycparser in /usr/local/lib/python3.10/dist-packages (from cffi>=1.0->soundfile>=0.12.1->librosa) (2.22)\n",
            "Requirement already satisfied: charset-normalizer<4,>=2 in /usr/local/lib/python3.10/dist-packages (from requests>=2.19.0->pooch>=1.1->librosa) (3.4.0)\n",
            "Requirement already satisfied: idna<4,>=2.5 in /usr/local/lib/python3.10/dist-packages (from requests>=2.19.0->pooch>=1.1->librosa) (3.10)\n",
            "Requirement already satisfied: urllib3<3,>=1.21.1 in /usr/local/lib/python3.10/dist-packages (from requests>=2.19.0->pooch>=1.1->librosa) (2.2.3)\n",
            "Requirement already satisfied: certifi>=2017.4.17 in /usr/local/lib/python3.10/dist-packages (from requests>=2.19.0->pooch>=1.1->librosa) (2024.8.30)\n",
            "^C\n"
          ]
        }
      ],
      "source": [
        "!pip install pyngrok flask\n",
        "!pip install pydub librosa"
      ]
    },
    {
      "cell_type": "code",
      "execution_count": null,
      "metadata": {
        "colab": {
          "base_uri": "https://localhost:8080/"
        },
        "id": "NBD1OJrMtXup",
        "outputId": "0ac7e2cc-7130-43a3-b1d2-626f745904ca"
      },
      "outputs": [
        {
          "metadata": {
            "tags": null
          },
          "name": "stdout",
          "output_type": "stream",
          "text": [
            " * Public URL: NgrokTunnel: \"https://c0e5-34-86-37-114.ngrok-free.app\" -> \"http://localhost:5000\"\n",
            " * Serving Flask app '__main__'\n",
            " * Debug mode: off\n"
          ]
        },
        {
          "metadata": {
            "tags": null
          },
          "name": "stderr",
          "output_type": "stream",
          "text": [
            "INFO:werkzeug:\u001b[31m\u001b[1mWARNING: This is a development server. Do not use it in a production deployment. Use a production WSGI server instead.\u001b[0m\n",
            " * Running on http://127.0.0.1:5000\n",
            "INFO:werkzeug:\u001b[33mPress CTRL+C to quit\u001b[0m\n",
            "INFO:werkzeug:127.0.0.1 - - [17/Dec/2024 19:55:40] \"\u001b[35m\u001b[1mPOST /process-audio HTTP/1.1\u001b[0m\" 500 -\n"
          ]
        },
        {
          "metadata": {
            "tags": null
          },
          "name": "stdout",
          "output_type": "stream",
          "text": [
            "Error: too many values to unpack (expected 2)\n"
          ]
        }
      ],
      "source": [
        "from pyngrok import ngrok\n",
        "from flask import Flask, request, send_file\n",
        "import librosa\n",
        "from pydub import AudioSegment\n",
        "import io\n",
        "import os\n",
        "from google.colab import userdata\n",
        "\n",
        "\n",
        "app = Flask(__name__)\n",
        "\n",
        "# Get auth token from ngrok dashboard and authenticate\n",
        "ngrok.set_auth_token(userdata.get('NGROK_SECRET'))\n",
        "\n",
        "# connect\n",
        "public_url = ngrok.connect(5000)\n",
        "print(f' * Public URL: {public_url}')\n",
        "\n",
        "@app.route('/', methods=['GET'])\n",
        "def home():\n",
        "    return \"Audio processing API is running!\"\n",
        "\n",
        "@app.route('/process-audio', methods=['POST'])\n",
        "def process_audio():\n",
        "    if 'file' not in request.files:\n",
        "        return {'error': 'No file provided'}, 400\n",
        "\n",
        "    file = request.files['file']\n",
        "    audio_data = file.read()\n",
        "    audio_io = io.BytesIO(audio_data)\n",
        "\n",
        "    # Save temporarily\n",
        "    # temp_path = 'temp_audio' # needs to handle file extension\n",
        "    # file.save(temp_path)\n",
        "\n",
        "    try:\n",
        "        # Process audio\n",
        "        y, sr = librosa.load(audio_io)\n",
        "\n",
        "        # Detect pitch\n",
        "        f0, voiced_flag = librosa.pyin(y, fmin=150, fmax=2000, sr=sr)\n",
        "        voiced_f0 = f0[voiced_flag.astype(bool)]\n",
        "        if len(voiced_f0) > 0:\n",
        "            target_pitch = librosa.hz_to_note(voiced_f0.mean())\n",
        "\n",
        "        # Convert to AudioSegment\n",
        "        audio = AudioSegment.from_file(audio_io)\n",
        "\n",
        "        # Normalize\n",
        "        normalized = audio.normalize()\n",
        "\n",
        "        # Trim silence\n",
        "        trimmed = normalized.strip_silence()\n",
        "\n",
        "        # Save processed audio\n",
        "        output_path = 'processed_audio.wav'\n",
        "        trimmed.export(output_path, format='wav')\n",
        "\n",
        "        # Return file\n",
        "        response = send_file(output_path, mimetype='audio/wav')\n",
        "\n",
        "        # Clean up temporary files\n",
        "        #os.remove(temp_path)\n",
        "        os.remove(output_path)\n",
        "\n",
        "        return response\n",
        "\n",
        "    except Exception as e:\n",
        "        # Clean up temporary files in case of error\n",
        "        if os.path.exists('processed_audio.wav'):\n",
        "            os.remove('processed_audio.wav')\n",
        "\n",
        "        print(f\"Error: {str(e)}\")\n",
        "        return {'error': str(e)}, 500\n",
        "\n",
        "app.run()"
      ]
    }
  ],
  "metadata": {
    "colab": {
      "provenance": []
    },
    "kernelspec": {
      "display_name": "Python 3",
      "name": "python3"
    },
    "language_info": {
      "name": "python"
    }
  },
  "nbformat": 4,
  "nbformat_minor": 0
}